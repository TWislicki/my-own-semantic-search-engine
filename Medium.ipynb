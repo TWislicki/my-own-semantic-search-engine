{
 "cells": [
  {
   "cell_type": "markdown",
   "metadata": {},
   "source": [
    "source = https://medium.com/p/5c68e8442df1"
   ]
  },
  {
   "cell_type": "code",
   "execution_count": 47,
   "metadata": {},
   "outputs": [],
   "source": [
    "import pandas as pd\n",
    "import numpy as np\n",
    "import torch\n",
    "import os\n",
    "import pandas as pd\n",
    "from sentence_transformers import SentenceTransformer\n",
    "import faiss\n",
    "import time\n"
   ]
  },
  {
   "cell_type": "code",
   "execution_count": 40,
   "metadata": {},
   "outputs": [],
   "source": [
    "\n",
    "pathname = '/Users/tomcio/Documents/GitHub/my-own-semantic-search-engine/data/'\n",
    "\n",
    "df = pd.read_csv(pathname + 'hotel_reviews.csv')"
   ]
  },
  {
   "cell_type": "code",
   "execution_count": 41,
   "metadata": {},
   "outputs": [
    {
     "data": {
      "text/html": [
       "<div>\n",
       "<style scoped>\n",
       "    .dataframe tbody tr th:only-of-type {\n",
       "        vertical-align: middle;\n",
       "    }\n",
       "\n",
       "    .dataframe tbody tr th {\n",
       "        vertical-align: top;\n",
       "    }\n",
       "\n",
       "    .dataframe thead th {\n",
       "        text-align: right;\n",
       "    }\n",
       "</style>\n",
       "<table border=\"1\" class=\"dataframe\">\n",
       "  <thead>\n",
       "    <tr style=\"text-align: right;\">\n",
       "      <th></th>\n",
       "      <th>reviews.text</th>\n",
       "    </tr>\n",
       "  </thead>\n",
       "  <tbody>\n",
       "    <tr>\n",
       "      <th>0</th>\n",
       "      <td>Our experience at Rancho Valencia was absolute...</td>\n",
       "    </tr>\n",
       "    <tr>\n",
       "      <th>1</th>\n",
       "      <td>Amazing place. Everyone was extremely warm and...</td>\n",
       "    </tr>\n",
       "    <tr>\n",
       "      <th>2</th>\n",
       "      <td>We booked a 3 night stay at Rancho Valencia to...</td>\n",
       "    </tr>\n",
       "    <tr>\n",
       "      <th>3</th>\n",
       "      <td>Currently in bed writing this for the past hr ...</td>\n",
       "    </tr>\n",
       "    <tr>\n",
       "      <th>4</th>\n",
       "      <td>I live in Md and the Aloft is my Home away fro...</td>\n",
       "    </tr>\n",
       "    <tr>\n",
       "      <th>...</th>\n",
       "      <td>...</td>\n",
       "    </tr>\n",
       "    <tr>\n",
       "      <th>9995</th>\n",
       "      <td>It is hard for me to review an oceanfront hote...</td>\n",
       "    </tr>\n",
       "    <tr>\n",
       "      <th>9996</th>\n",
       "      <td>I live close by, and needed to stay somewhere ...</td>\n",
       "    </tr>\n",
       "    <tr>\n",
       "      <th>9997</th>\n",
       "      <td>Rolled in 11:30 laid out heads down woke up to...</td>\n",
       "    </tr>\n",
       "    <tr>\n",
       "      <th>9998</th>\n",
       "      <td>Absolutely terrible..I was told I was being gi...</td>\n",
       "    </tr>\n",
       "    <tr>\n",
       "      <th>9999</th>\n",
       "      <td>Filthy, outdated, noisy neighbours, but this w...</td>\n",
       "    </tr>\n",
       "  </tbody>\n",
       "</table>\n",
       "<p>10000 rows × 1 columns</p>\n",
       "</div>"
      ],
      "text/plain": [
       "                                           reviews.text\n",
       "0     Our experience at Rancho Valencia was absolute...\n",
       "1     Amazing place. Everyone was extremely warm and...\n",
       "2     We booked a 3 night stay at Rancho Valencia to...\n",
       "3     Currently in bed writing this for the past hr ...\n",
       "4     I live in Md and the Aloft is my Home away fro...\n",
       "...                                                 ...\n",
       "9995  It is hard for me to review an oceanfront hote...\n",
       "9996  I live close by, and needed to stay somewhere ...\n",
       "9997  Rolled in 11:30 laid out heads down woke up to...\n",
       "9998  Absolutely terrible..I was told I was being gi...\n",
       "9999  Filthy, outdated, noisy neighbours, but this w...\n",
       "\n",
       "[10000 rows x 1 columns]"
      ]
     },
     "execution_count": 41,
     "metadata": {},
     "output_type": "execute_result"
    }
   ],
   "source": [
    "data = df[['reviews.text']]\n",
    "data"
   ]
  },
  {
   "cell_type": "code",
   "execution_count": 42,
   "metadata": {},
   "outputs": [],
   "source": [
    "#Load a pre-trained model\n",
    "model =SentenceTransformer('msmarco-MiniLM-L-12-v3')\n",
    "hotel_reviews=data[\"reviews.text\"].tolist()\n",
    "\n",
    "#embed hotel reviews\n",
    "hotel_reviews_embds=model.encode(hotel_reviews)"
   ]
  },
  {
   "cell_type": "code",
   "execution_count": 43,
   "metadata": {},
   "outputs": [],
   "source": [
    "# Create an index using FAISS\n",
    "index = faiss.IndexFlatL2(hotel_reviews_embds.shape[1])\n",
    "index.add(hotel_reviews_embds)\n",
    "faiss.write_index(index, 'index_hotel_reviews')\n",
    "index = faiss.read_index('index_hotel_reviews')"
   ]
  },
  {
   "cell_type": "code",
   "execution_count": 44,
   "metadata": {},
   "outputs": [],
   "source": [
    "def search(query):\n",
    "    \n",
    "    t=time.time()\n",
    "    query_vector = model.encode([query])\n",
    "    k = 5\n",
    "    top_k = index.search(query_vector, k)\n",
    "    print('totaltime: {}'.format(time.time()-t))\n",
    "    return [hotel_reviews[_id] for _id in top_k[1].tolist()[0]]"
   ]
  },
  {
   "cell_type": "code",
   "execution_count": 45,
   "metadata": {},
   "outputs": [
    {
     "name": "stdout",
     "output_type": "stream",
     "text": [
      "totaltime: 0.019793272018432617\n"
     ]
    },
    {
     "data": {
      "text/plain": [
       "[\"1. I did not like the experience of dealing with the Expedia person who assisted with the reservation. 2. It was annoying to learn only while checking out that this is a time share hotel. No one told me. 3. The WIFI was slow, and unreliable, cutting out from time to time. Also, when it tried to upgrade to the offered higher speed WIFI, it was quite an ordeal that took about 90 minutes and a call to the help line at your WIFI vendor. BTW, you might try the user interface for that sign up - it exasperatingly erases all one's data entries if a single one of them is incorrect (eg if you generate an unacceptable password) 4. The Business Center has two PCs that are excruciatingly slow, and a printer as well that lumbers along. Old, slow, out of date. 5. The single bright light in this business experience is that the staff were unfailingly polite and did their best to help. I give them credit for trying, and for being nice to me.\",\n",
       " 'Bad and slow WiFi connection',\n",
       " 'The internet was so slow that my data kicked in. That I could be OK with just a nuisance. I got back to my room around 9pm and wanted to take a bath. The stopper on the tub did not work so could not do that. I think it is funny how things that are so minor do not work... More',\n",
       " 'Check in service was slow. Personnel were rude. Smoking room was given to two non-smokers. Strong smell in room even with air conditioner running non-stop.',\n",
       " 'Excellent service']"
      ]
     },
     "execution_count": 45,
     "metadata": {},
     "output_type": "execute_result"
    }
   ],
   "source": [
    "results=search(\"slow service\")\n",
    "results"
   ]
  }
 ],
 "metadata": {
  "kernelspec": {
   "display_name": "lobbyingdata_env",
   "language": "python",
   "name": "python3"
  },
  "language_info": {
   "codemirror_mode": {
    "name": "ipython",
    "version": 3
   },
   "file_extension": ".py",
   "mimetype": "text/x-python",
   "name": "python",
   "nbconvert_exporter": "python",
   "pygments_lexer": "ipython3",
   "version": "3.10.5"
  },
  "orig_nbformat": 4
 },
 "nbformat": 4,
 "nbformat_minor": 2
}
